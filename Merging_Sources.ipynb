{
  "nbformat": 4,
  "nbformat_minor": 0,
  "metadata": {
    "colab": {
      "provenance": [],
      "authorship_tag": "ABX9TyMIs8+ViHbxlIPaTQaVMsN4",
      "include_colab_link": true
    },
    "kernelspec": {
      "name": "python3",
      "display_name": "Python 3"
    },
    "language_info": {
      "name": "python"
    }
  },
  "cells": [
    {
      "cell_type": "markdown",
      "metadata": {
        "id": "view-in-github",
        "colab_type": "text"
      },
      "source": [
        "<a href=\"https://colab.research.google.com/github/khagerthey/VIS1/blob/main/Merging_Sources.ipynb\" target=\"_parent\"><img src=\"https://colab.research.google.com/assets/colab-badge.svg\" alt=\"Open In Colab\"/></a>"
      ]
    },
    {
      "cell_type": "markdown",
      "source": [
        "My research mission is to investigate the glass breakages at this facility. Our largest production line is Line 3, so this current data is reflective of glass coming from that line. I believe that it is likely that the glass breakages are building up to be our most cost driven issue. From what I have seen it is only growing and I believe that it is due to thermal shock resulting from the way Chelten House handles and stores their glass. \n",
        "\n",
        "I will be looking at the glass breakage forms from the production lines, this will give me an estimate of amount and time. I will also resource daily downtime reports from operations and the warehouse’s glass count sheets. The downtime reports will allow me to analyze how much time is lost due to glass breakages and QA process in total compared to other issues. The glass count sheets will show me how much glass we lose in storage and/or if it is being shipped to us already damaged.\n"
      ],
      "metadata": {
        "id": "Mqg9BYiaOJt8"
      }
    },
    {
      "cell_type": "markdown",
      "source": [
        "I will be using three sources for this assignment. My first source is a Scientific Status Summary, which provided information regarding food packaging and the qualities associated with each.\n",
        "For reference: https://www.researchgate.net/profile/Kenneth-Marsh-3/publication/5850700_Food_PackagingRoles_Materials_and_Environmental_Issues/links/5a046cf8a6fdcc1c2f6062e0/Food-PackagingRoles-Materials-and-Environmental-Issues.pdf"
      ],
      "metadata": {
        "id": "QeqJzGy-OrHK"
      }
    },
    {
      "cell_type": "code",
      "execution_count": 2,
      "metadata": {
        "id": "FGT_vDiXMPTn"
      },
      "outputs": [],
      "source": [
        "import time, os, sys, re \n",
        "import zipfile, json, datetime, string \n",
        "import numpy as np\n",
        "from statistics import *\n",
        "\n",
        "import matplotlib.pyplot as plt \n",
        "import pandas as pd\n",
        "import pandas_datareader as pdr\n",
        "from pandas_datareader import wb\n",
        "from pandas.io.formats.style import Styler\n",
        "\n",
        "import urllib                                               \n",
        "\n",
        "from google.colab import files\n",
        "\n",
        "import webbrowser                                                                      \n",
        "import folium as f                                                                     \n",
        "from folium.plugins import MarkerCluster, HeatMap                                      \n",
        "\n",
        "import seaborn as sns\n",
        "\n",
        "from google.colab import data_table\n",
        "data_table.enable_dataframe_formatter()\n",
        "\n",
        "from IPython.core.interactiveshell import InteractiveShell\n",
        "InteractiveShell.ast_node_interactivity = \"all\""
      ]
    },
    {
      "cell_type": "code",
      "source": [
        "urllib.request.urlretrieve(\"https://drive.google.com/file/d/1qLm7mVSqbQNhyBGdER4R3F0My1fQcRWI/view?usp=share_link\", \"Materials Generated and Discarded in the Municipal Waste Stream in 2005.cvs\")"
      ],
      "metadata": {
        "colab": {
          "base_uri": "https://localhost:8080/"
        },
        "id": "DgOR6iJqSQtk",
        "outputId": "784bbf1a-650a-4876-ee04-1759bb32d8a6"
      },
      "execution_count": 5,
      "outputs": [
        {
          "output_type": "execute_result",
          "data": {
            "text/plain": [
              "('Materials Generated and Discarded in the Municipal Waste Stream in 2005.cvs',\n",
              " <http.client.HTTPMessage at 0x7fc63bc14a90>)"
            ]
          },
          "metadata": {},
          "execution_count": 5
        }
      ]
    },
    {
      "cell_type": "code",
      "source": [
        "!pwd\n",
        "!ls"
      ],
      "metadata": {
        "colab": {
          "base_uri": "https://localhost:8080/"
        },
        "id": "JvT0--LPWTqd",
        "outputId": "85c5040e-9492-42c3-f84e-907286d77801"
      },
      "execution_count": 6,
      "outputs": [
        {
          "output_type": "stream",
          "name": "stdout",
          "text": [
            "/content\n",
            "'Materials Generated and Discarded in the Municipal Waste Stream in 2005.cvs'\n",
            " sample_data\n"
          ]
        }
      ]
    },
    {
      "cell_type": "code",
      "source": [
        "dat=pd.read_csv('Materials Generated and Discarded in the Municipal Waste Stream in 2005.cvs')"
      ],
      "metadata": {
        "id": "vqddejTzWeUm"
      },
      "execution_count": 8,
      "outputs": []
    },
    {
      "cell_type": "code",
      "source": [
        "urllib.request.urlretrieve('https://drive.google.com/file/d/1sEwtlelsOGG0cD8ljTcbXexoLYsQoaA6/view?usp=sharing','Properties, Environmental Issues, and Cost for Packaging Materials.csv')\n"
      ],
      "metadata": {
        "colab": {
          "base_uri": "https://localhost:8080/"
        },
        "id": "M73sQg8Scazm",
        "outputId": "832ed689-cfa6-4a7c-bc5a-cd048126024a"
      },
      "execution_count": 18,
      "outputs": [
        {
          "output_type": "execute_result",
          "data": {
            "text/plain": [
              "('Properties, Environmental Issues, and Cost for Packaging Materials.csv',\n",
              " <http.client.HTTPMessage at 0x7fc6337f3250>)"
            ]
          },
          "metadata": {},
          "execution_count": 18
        }
      ]
    },
    {
      "cell_type": "code",
      "source": [
        "pd.read_csv=('Properties, Environmental Issues, and Cost for Packaging Materials.csv')"
      ],
      "metadata": {
        "id": "XCHEmzfcf5lN"
      },
      "execution_count": 20,
      "outputs": []
    },
    {
      "cell_type": "code",
      "source": [
        "dat=pd.read_csv=('Properties, Environmental Issues, and Cost for Packaging Materials.csv')"
      ],
      "metadata": {
        "id": "udarX37Yg90w"
      },
      "execution_count": 30,
      "outputs": []
    },
    {
      "cell_type": "code",
      "source": [
        "dat[[\"Product Characteristics/Food Compatibility\",\"Cost\"]][0:3]"
      ],
      "metadata": {
        "colab": {
          "base_uri": "https://localhost:8080/",
          "height": 169
        },
        "id": "O0uRXSrMizuU",
        "outputId": "480ecefb-57cd-418c-fb89-c6319d319127"
      },
      "execution_count": 31,
      "outputs": [
        {
          "output_type": "error",
          "ename": "TypeError",
          "evalue": "ignored",
          "traceback": [
            "\u001b[0;31m---------------------------------------------------------------------------\u001b[0m",
            "\u001b[0;31mTypeError\u001b[0m                                 Traceback (most recent call last)",
            "\u001b[0;32m<ipython-input-31-3d35d491dfc4>\u001b[0m in \u001b[0;36m<module>\u001b[0;34m\u001b[0m\n\u001b[0;32m----> 1\u001b[0;31m \u001b[0mdat\u001b[0m\u001b[0;34m[\u001b[0m\u001b[0;34m[\u001b[0m\u001b[0;34m\"Product Characteristics/Food Compatibility\"\u001b[0m\u001b[0;34m,\u001b[0m\u001b[0;34m\"Cost\"\u001b[0m\u001b[0;34m]\u001b[0m\u001b[0;34m]\u001b[0m\u001b[0;34m[\u001b[0m\u001b[0;36m0\u001b[0m\u001b[0;34m:\u001b[0m\u001b[0;36m3\u001b[0m\u001b[0;34m]\u001b[0m\u001b[0;34m\u001b[0m\u001b[0;34m\u001b[0m\u001b[0m\n\u001b[0m",
            "\u001b[0;31mTypeError\u001b[0m: string indices must be integers"
          ]
        }
      ]
    }
  ]
}